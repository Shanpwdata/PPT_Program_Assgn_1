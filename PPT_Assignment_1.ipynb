{
 "cells": [
  {
   "cell_type": "markdown",
   "id": "0d78d2ba-e43c-46ff-985a-3a44dd3d49ee",
   "metadata": {},
   "source": [
    "💡 **Q1.** Given an array of integers nums and an integer target, return indices of the two numbers such that they add up to target.\n",
    "\n",
    "You may assume that each input would have exactly one solution, and you may not use the same element twice.\n",
    "\n",
    "You can return the answer in any order.\n",
    "\n",
    "**Example:**\n",
    "Input: nums = [2,7,11,15], target = 9\n",
    "Output0 [0,1]\n",
    "\n",
    "**Explanation:** Because nums[0] + nums[1] == 9, we return [0, 1]["
   ]
  },
  {
   "cell_type": "code",
   "execution_count": 1,
   "id": "deef2702-dedb-4a02-a1d8-229340190070",
   "metadata": {},
   "outputs": [],
   "source": [
    "### Ans_1\n",
    "nums = [2,7,11,15] \n",
    "target = 9\n",
    "def twoSum(nums, target):\n",
    "    num_dict = {}\n",
    "    for i,num in enumerate(nums):\n",
    "        x = target - num\n",
    "        if x in num_dict:\n",
    "            return [num_dict[x], i]\n",
    "        num_dict[num] = i\n",
    "    return []"
   ]
  },
  {
   "cell_type": "code",
   "execution_count": 2,
   "id": "3f1bf4f8-aebe-47b0-91e3-36cbd9afbe0c",
   "metadata": {},
   "outputs": [
    {
     "data": {
      "text/plain": [
       "[0, 1]"
      ]
     },
     "execution_count": 2,
     "metadata": {},
     "output_type": "execute_result"
    }
   ],
   "source": [
    "twoSum([2,7,11,15],9)"
   ]
  },
  {
   "cell_type": "markdown",
   "id": "4a70dacf-0428-4aee-a5e1-ae385d9d96c4",
   "metadata": {},
   "source": [
    "💡 **Q2.** Given an integer array nums and an integer val, remove all occurrences of val in nums in-place. The order of the elements may be changed. Then return the number of elements in nums which are not equal to val.\n",
    "\n",
    "Consider the number of elements in nums which are not equal to val be k, to get accepted, you need to do the following things:\n",
    "\n",
    "- Change the array nums such that the first k elements of nums contain the elements which are not equal to val. The remaining elements of nums are not important as well as the size of nums.\n",
    "- Return k.\n",
    "\n",
    "**Example :**\n",
    "Input: nums = [3,2,2,3], val = 3\n",
    "Output: 2, nums = [2,2,_*,_*]\n",
    "\n",
    "**Explanation:** Your function should return k = 2, with the first two elements of nums being 2. It does not matter what you leave beyond the returned k (hence they are underscores)["
   ]
  },
  {
   "cell_type": "code",
   "execution_count": 3,
   "id": "26a4dc0a-08ec-4e63-9b02-b2310730ece4",
   "metadata": {},
   "outputs": [],
   "source": [
    "### Ans_2\n",
    "nums = [3,2,2,3] \n",
    "val = 3\n",
    "\n",
    "def removeElement(nums, val):\n",
    "    k = 0\n",
    "    for i in range(len(nums)):\n",
    "        if nums[i] != val:\n",
    "            nums[k] = nums[i]\n",
    "            k += 1\n",
    "    return k, nums"
   ]
  },
  {
   "cell_type": "code",
   "execution_count": 4,
   "id": "a82de647-70d7-4de3-87e3-b2b28600958c",
   "metadata": {},
   "outputs": [
    {
     "data": {
      "text/plain": [
       "(2, [2, 2, 2, 3])"
      ]
     },
     "execution_count": 4,
     "metadata": {},
     "output_type": "execute_result"
    }
   ],
   "source": [
    "removeElement([3,2,2,3], 3)"
   ]
  },
  {
   "cell_type": "markdown",
   "id": "9bee362b-8f17-4eb6-b3b8-61381e1ed80f",
   "metadata": {},
   "source": [
    "💡 **Q3.** Given a sorted array of distinct integers and a target value, return the index if the target is found. If not, return the index where it would be if it were inserted in order.\n",
    "\n",
    "You must write an algorithm with O(log n) runtime complexity.\n",
    "\n",
    "**Example 1:**\n",
    "Input: nums = [1,3,5,6], target = 5\n",
    "\n",
    "Output: 2"
   ]
  },
  {
   "cell_type": "code",
   "execution_count": 5,
   "id": "f360d31e-d7ac-4a7a-8f60-f5915d55397e",
   "metadata": {},
   "outputs": [],
   "source": [
    "###Ans_3\n",
    "nums = [1,3,5,6]\n",
    "target = 5\n",
    "def index (nums, target):\n",
    "    l = 0\n",
    "    h = len(nums)-1\n",
    "    while l<= h:\n",
    "        mid = (l + h)//2\n",
    "        if nums[mid] == target:\n",
    "            return mid\n",
    "        elif nums[mid] < target:\n",
    "                l = mid+1\n",
    "        elif nums[mid] > target:\n",
    "              h = mid -1\n",
    "        else :\n",
    "            return mid\n",
    "    return l"
   ]
  },
  {
   "cell_type": "code",
   "execution_count": 6,
   "id": "520bea4f-d3d6-4850-81fb-705fe07287ea",
   "metadata": {},
   "outputs": [
    {
     "data": {
      "text/plain": [
       "2"
      ]
     },
     "execution_count": 6,
     "metadata": {},
     "output_type": "execute_result"
    }
   ],
   "source": [
    "index([1,3,5,6],5)"
   ]
  },
  {
   "cell_type": "markdown",
   "id": "0670c5f0-0953-4402-ac63-b46b8c9d48c0",
   "metadata": {},
   "source": [
    "💡 **Q4.** You are given a large integer represented as an integer array digits, where each digits[i] is the ith digit of the integer. The digits are ordered from most significant to least significant in left-to-right order. The large integer does not contain any leading 0's.\n",
    "\n",
    "Increment the large integer by one and return the resulting array of digits.\n",
    "\n",
    "**Example 1:**\n",
    "Input: digits = [1,2,3]\n",
    "Output: [1,2,4]\n",
    "\n",
    "**Explanation:** The array represents the integer 123.\n",
    "\n",
    "Incrementing by one gives 123 + 1 = 124.\n",
    "Thus, the result should be [1,2,4]."
   ]
  },
  {
   "cell_type": "code",
   "execution_count": 7,
   "id": "c04a0bc3-1557-4603-8316-679e1a5215c8",
   "metadata": {},
   "outputs": [],
   "source": [
    "###Ans_4.\n",
    "digits = [1,2,3]\n",
    "def large_integer(digits):\n",
    "    num = 0\n",
    "    for i in digits:\n",
    "        num = num*10 + i%10\n",
    "    num = num+1\n",
    "    temp = []\n",
    "    while num>0:\n",
    "        x = num%10\n",
    "        temp.append(x)\n",
    "        num = num//10\n",
    "    temp.reverse()\n",
    "    print(temp)      "
   ]
  },
  {
   "cell_type": "code",
   "execution_count": 8,
   "id": "6093ea77-8b38-493c-b5e0-2d1f889fc724",
   "metadata": {},
   "outputs": [
    {
     "name": "stdout",
     "output_type": "stream",
     "text": [
      "[1, 2, 4]\n"
     ]
    }
   ],
   "source": [
    "large_integer([1,2,3])"
   ]
  },
  {
   "cell_type": "markdown",
   "id": "92ca43d0-921b-4f79-ad6a-fdad8cfcc46d",
   "metadata": {},
   "source": [
    "💡 **Q5.** You are given two integer arrays nums1 and nums2, sorted in non-decreasing order, and two integers m and n, representing the number of elements in nums1 and nums2 respectively.\n",
    "\n",
    "Merge nums1 and nums2 into a single array sorted in non-decreasing order.\n",
    "\n",
    "The final sorted array should not be returned by the function, but instead be stored inside the array nums1. To accommodate this, nums1 has a length of m + n, where the first m elements denote the elements that should be merged, and the last n elements are set to 0 and should be ignored. nums2 has a length of n.\n",
    "\n",
    "**Example 1:**\n",
    "Input: nums1 = [1,2,3,0,0,0], m = 3, nums2 = [2,5,6], n = 3\n",
    "Output: [1,2,2,3,5,6]\n",
    "\n",
    "**Explanation:** The arrays we are merging are [1,2,3] and [2,5,6].\n",
    "The result of the merge is [1,2,2,3,5,6] with the underlined elements coming from nums1."
   ]
  },
  {
   "cell_type": "code",
   "execution_count": 9,
   "id": "bb6b4e27-9162-4061-bafe-7af6489748cb",
   "metadata": {},
   "outputs": [],
   "source": [
    "###Ans_5.\n",
    "nums1 = [1,2,3,0,0,0] \n",
    "m = 3 \n",
    "nums2 = [2,5,6]\n",
    "n = 3\n",
    "def merge_list(nums1,nums2,m,n):\n",
    "    for i in range(m,m+n):\n",
    "        nums1[i] = nums2[i-m]\n",
    "    nums1.sort()\n",
    "    return nums1"
   ]
  },
  {
   "cell_type": "code",
   "execution_count": 10,
   "id": "14662880-baf1-4d51-a376-b0abe67b4575",
   "metadata": {},
   "outputs": [
    {
     "data": {
      "text/plain": [
       "[1, 2, 2, 3, 5, 6]"
      ]
     },
     "execution_count": 10,
     "metadata": {},
     "output_type": "execute_result"
    }
   ],
   "source": [
    "merge_list([1,2,3,0,0,0],[2,5,6],3,3)"
   ]
  },
  {
   "cell_type": "markdown",
   "id": "f8e534e3-777a-4a08-9e1f-7dd4811eb6df",
   "metadata": {},
   "source": [
    "💡 **Q6.** Given an integer array nums, return true if any value appears at least twice in the array, and return false if every element is distinct.\n",
    "\n",
    "**Example 1:**\n",
    "Input: nums = [1,2,3,1]\n",
    "\n",
    "Output: true"
   ]
  },
  {
   "cell_type": "code",
   "execution_count": 11,
   "id": "223f5375-780c-450e-8369-ca0f3465c71f",
   "metadata": {},
   "outputs": [],
   "source": [
    "###Ans_6.\n",
    "nums = [1,2,3,1]\n",
    "def twice_element(nums):\n",
    "    h = len(nums)-1\n",
    "    for i in range(h):\n",
    "        for j in range(i+1, h+1):\n",
    "            if nums[j] == nums[i]:\n",
    "                return True\n",
    "        return False \n",
    "                "
   ]
  },
  {
   "cell_type": "code",
   "execution_count": 12,
   "id": "bbf8ab02-681f-4d09-8de2-884ef6f48f75",
   "metadata": {},
   "outputs": [
    {
     "data": {
      "text/plain": [
       "True"
      ]
     },
     "execution_count": 12,
     "metadata": {},
     "output_type": "execute_result"
    }
   ],
   "source": [
    "twice_element([1,2,3,1])"
   ]
  },
  {
   "cell_type": "markdown",
   "id": "9c8720b5-41ad-46c8-84ad-a0d7a69277e3",
   "metadata": {},
   "source": [
    "💡 **Q7.** Given an integer array nums, move all 0's to the end of it while maintaining the relative order of the nonzero elements.\n",
    "\n",
    "Note that you must do this in-place without making a copy of the array.\n",
    "\n",
    "**Example 1:**\n",
    "Input: nums = [0,1,0,3,12]\n",
    "Output: [1,3,12,0,0]"
   ]
  },
  {
   "cell_type": "code",
   "execution_count": 42,
   "id": "1c5aa97b-05a6-4c06-85c6-391c4b5f57db",
   "metadata": {},
   "outputs": [],
   "source": [
    "###Ans_7.\n",
    "nums = [0,1,0,3,12]\n",
    "def remove_zero(nums):\n",
    "    high = len(nums)-1\n",
    "    for i in range(high):\n",
    "        if nums[i] == 0:\n",
    "            for j in range(i,high+1):\n",
    "                if nums[j] !=0 :\n",
    "                    nums[i],nums[j]=nums[j],nums[i]\n",
    "                    break\n",
    "    return nums\n",
    "    "
   ]
  },
  {
   "cell_type": "code",
   "execution_count": 43,
   "id": "2dbd1280-167e-44df-9fed-378f16a4f9c8",
   "metadata": {},
   "outputs": [
    {
     "data": {
      "text/plain": [
       "[1, 3, 12, 0, 0]"
      ]
     },
     "execution_count": 43,
     "metadata": {},
     "output_type": "execute_result"
    }
   ],
   "source": [
    "remove_zero([0,1,0,3,12])"
   ]
  },
  {
   "cell_type": "markdown",
   "id": "afdbb7cd-af88-46b3-9ae9-50b01f66dd66",
   "metadata": {},
   "source": [
    "💡 **Q8.** You have a set of integers s, which originally contains all the numbers from 1 to n. Unfortunately, due to some error, one of the numbers in s got duplicated to another number in the set, which results in repetition of one number and loss of another number.\n",
    "\n",
    "You are given an integer array nums representing the data status of this set after the error.\n",
    "\n",
    "Find the number that occurs twice and the number that is missing and return them in the form of an array.\n",
    "\n",
    "**Example 1:**\n",
    "Input: nums = [1,2,2,4]\n",
    "Output: [2,3]"
   ]
  },
  {
   "cell_type": "code",
   "execution_count": 1,
   "id": "630c9e3c-379c-48df-b5d6-d9d9baaf57ac",
   "metadata": {},
   "outputs": [],
   "source": [
    "###Ans_8.\n",
    "def findErrorNums(nums):\n",
    "        k =[]\n",
    "        x = -1\n",
    "        y = -1\n",
    "        nums.sort()\n",
    "        count=1;\n",
    "        for i in range(len(nums)):\n",
    "            if count==nums[i]:\n",
    "                count = count + 1\n",
    "            elif y == -1:\n",
    "                y=count\n",
    "\n",
    "            if x == -1 and nums[i] == nums[i+1]:\n",
    "                x = nums[i]\n",
    "                count = count - 1\n",
    "        \n",
    "        \n",
    "        if y == -1:\n",
    "            y = len(nums)\n",
    "\n",
    "        k.append(x)\n",
    "        k.append(y)\n",
    "        return k"
   ]
  },
  {
   "cell_type": "code",
   "execution_count": 3,
   "id": "7f8c60f8-ca00-492f-9fa0-3e5295fde5d5",
   "metadata": {},
   "outputs": [
    {
     "data": {
      "text/plain": [
       "[2, 3]"
      ]
     },
     "execution_count": 3,
     "metadata": {},
     "output_type": "execute_result"
    }
   ],
   "source": [
    "findErrorNums([1,2,2,4])"
   ]
  },
  {
   "cell_type": "code",
   "execution_count": null,
   "id": "2f4e6616-d675-4448-9ddf-b9fb0065f117",
   "metadata": {},
   "outputs": [],
   "source": []
  }
 ],
 "metadata": {
  "kernelspec": {
   "display_name": "Python 3 (ipykernel)",
   "language": "python",
   "name": "python3"
  },
  "language_info": {
   "codemirror_mode": {
    "name": "ipython",
    "version": 3
   },
   "file_extension": ".py",
   "mimetype": "text/x-python",
   "name": "python",
   "nbconvert_exporter": "python",
   "pygments_lexer": "ipython3",
   "version": "3.10.8"
  }
 },
 "nbformat": 4,
 "nbformat_minor": 5
}
